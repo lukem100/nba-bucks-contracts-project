{
 "cells": [
  {
   "cell_type": "code",
   "execution_count": null,
   "id": "6ce811c6-2c89-4560-a1ac-6275250ed1c8",
   "metadata": {},
   "outputs": [],
   "source": [
    "# this is the data exploration file - import CSVs or connecting to SQLite, basic EDA, etc. "
   ]
  },
  {
   "cell_type": "code",
   "execution_count": null,
   "id": "6554dc4e-0561-4d9e-94c6-4dd18ccad690",
   "metadata": {},
   "outputs": [],
   "source": []
  },
  {
   "cell_type": "code",
   "execution_count": 109,
   "id": "77df3306-6579-40d1-a0d2-17a3c16baa66",
   "metadata": {},
   "outputs": [],
   "source": []
  },
  {
   "cell_type": "code",
   "execution_count": 111,
   "id": "0ecdea1b-eddf-41fc-8f08-6d909bdad7e5",
   "metadata": {},
   "outputs": [],
   "source": []
  },
  {
   "cell_type": "code",
   "execution_count": 185,
   "id": "9c1ea17f-7b20-4afe-a2ae-4a0126179f97",
   "metadata": {},
   "outputs": [
    {
     "name": "stdout",
     "output_type": "stream",
     "text": [
      "Quarterly Averages:\n",
      "   Quarter   BucksAvg     OppAvg\n",
      "0        1  26.343291  25.897934\n",
      "1        2  25.796365  25.624347\n",
      "2        3  25.917351  25.512074\n",
      "3        4  25.745332  25.678616\n",
      "Avg margin in Q1 = 0.45\n",
      "Avg margin in Q2 = 0.17\n",
      "Avg margin in Q3 = 0.41\n",
      "Avg margin in Q4 = 0.07\n",
      "\n",
      "Final summary saved to 'bucks_quarterly_scoring.csv'\n"
     ]
    }
   ],
   "source": [
    "\n",
    "import pandas as pd\n",
    "\n",
    "\n",
    "df = pd.read_csv(\"/Users/lukemorrison/Desktop/nba-bucks-margin-by-quarter/notebooks/csv/game_summary.csv\")\n",
    "df_line = pd.read_csv(\"/Users/lukemorrison/Desktop/nba-bucks-margin-by-quarter/notebooks/csv/line_score.csv\")\n",
    "df.head()\n",
    "\n",
    "df.columns\n",
    "\n",
    "df_line.columns\n",
    "\n",
    "mask_bucks = (\n",
    "    (df_line[\"team_nickname_home\"] == \"Bucks\") |\n",
    "    (df_line[\"team_nickname_away\"] == \"Bucks\")\n",
    ")\n",
    "df_bucks = df_line[mask_bucks].copy()\n",
    "\n",
    "\n",
    "def is_bucks_home(row):\n",
    "    return row[\"team_nickname_home\"] == \"Bucks\"\n",
    "\n",
    "df_bucks[\"bucks_home\"] = df_bucks.apply(is_bucks_home, axis=1)\n",
    "\n",
    "\n",
    "def get_bucks_points(row, quarter):\n",
    "    home_key = f\"pts_qtr{quarter}_home\"\n",
    "    away_key = f\"pts_qtr{quarter}_away\"\n",
    "    if row[\"bucks_home\"]:\n",
    "        return row[home_key]\n",
    "    else:\n",
    "        return row[away_key]\n",
    "\n",
    "def get_opp_points(row, quarter):\n",
    "    home_key = f\"pts_qtr{quarter}_home\"\n",
    "    away_key = f\"pts_qtr{quarter}_away\"\n",
    "    if row[\"bucks_home\"]:\n",
    "        return row[away_key]\n",
    "    else:\n",
    "        return row[home_key]\n",
    "\n",
    "\n",
    "for q in [1, 2, 3, 4]:\n",
    "    bucks_col = f\"q{q}_bucks\"\n",
    "    opp_col   = f\"q{q}_opp\"\n",
    "    df_bucks[bucks_col] = df_bucks.apply(lambda r: get_bucks_points(r, q), axis=1)\n",
    "    df_bucks[opp_col]   = df_bucks.apply(lambda r: get_opp_points(r, q), axis=1)\n",
    "\n",
    "\n",
    "df_bucks[\"bucks_total_4q\"] = (\n",
    "    df_bucks[\"q1_bucks\"] +\n",
    "    df_bucks[\"q2_bucks\"] +\n",
    "    df_bucks[\"q3_bucks\"] +\n",
    "    df_bucks[\"q4_bucks\"]\n",
    ")\n",
    "df_bucks[\"opp_total_4q\"] = (\n",
    "    df_bucks[\"q1_opp\"] +\n",
    "    df_bucks[\"q2_opp\"] +\n",
    "    df_bucks[\"q3_opp\"] +\n",
    "    df_bucks[\"q4_opp\"]\n",
    ")\n",
    "\n",
    "\n",
    "q_summary = []\n",
    "for q in [1, 2, 3, 4]:\n",
    "    bucks_col = f\"q{q}_bucks\"\n",
    "    opp_col   = f\"q{q}_opp\"\n",
    "    avg_bucks = df_bucks[bucks_col].mean()\n",
    "    avg_opp   = df_bucks[opp_col].mean()\n",
    "    q_summary.append((q, avg_bucks, avg_opp))\n",
    "\n",
    "df_quarterly_avg = pd.DataFrame(q_summary, columns=[\"Quarter\", \"BucksAvg\", \"OppAvg\"])\n",
    "print(\"Quarterly Averages:\")\n",
    "print(df_quarterly_avg)\n",
    "\n",
    "\n",
    "for q in [1, 2, 3, 4]:\n",
    "    margin_col = f\"q{q}_margin\"\n",
    "    df_bucks[margin_col] = df_bucks[f\"q{q}_bucks\"] - df_bucks[f\"q{q}_opp\"]\n",
    "\n",
    "\n",
    "for q in [1, 2, 3, 4]:\n",
    "    margin_col = f\"q{q}_margin\"\n",
    "    avg_margin = df_bucks[margin_col].mean()\n",
    "    print(f\"Avg margin in Q{q} = {avg_margin:.2f}\")\n",
    "\n",
    "\n",
    "df_quarterly_avg[\"MarginAvg\"] = df_quarterly_avg[\"BucksAvg\"] - df_quarterly_avg[\"OppAvg\"]\n",
    "\n",
    "df_quarterly_avg.to_csv(\"bucks_quarterly_scoring.csv\", index=False)\n",
    "print(\"\\nFinal summary saved to 'bucks_quarterly_scoring.csv'\")\n"
   ]
  },
  {
   "cell_type": "code",
   "execution_count": 172,
   "id": "d26f903f-e761-4219-be76-25861b2a32cc",
   "metadata": {},
   "outputs": [
    {
     "name": "stdout",
     "output_type": "stream",
     "text": [
      "Earliest Bucks game_date_est: 1968-10-16 00:00:00\n",
      "Latest Bucks game_date_est: 2023-04-26 00:00:00\n"
     ]
    }
   ],
   "source": []
  },
  {
   "cell_type": "code",
   "execution_count": null,
   "id": "55688cfe-d870-440a-9e07-985926a2919f",
   "metadata": {},
   "outputs": [],
   "source": []
  },
  {
   "cell_type": "code",
   "execution_count": null,
   "id": "e5f5653f-c67c-4aa9-a0d4-430b9b5422f4",
   "metadata": {},
   "outputs": [],
   "source": [
    "\n",
    "\n"
   ]
  },
  {
   "cell_type": "code",
   "execution_count": null,
   "id": "f43d7956-459e-4c5f-a42c-76c77d0b932a",
   "metadata": {},
   "outputs": [],
   "source": []
  },
  {
   "cell_type": "code",
   "execution_count": null,
   "id": "aecdda10-bc95-451b-9930-679cceadf4f5",
   "metadata": {},
   "outputs": [],
   "source": [
    "\n"
   ]
  },
  {
   "cell_type": "code",
   "execution_count": null,
   "id": "df97727f-9809-4e7c-ae58-303be4d21421",
   "metadata": {},
   "outputs": [],
   "source": []
  },
  {
   "cell_type": "code",
   "execution_count": null,
   "id": "881712aa-b694-4d24-9f04-ebacb74b0e7a",
   "metadata": {},
   "outputs": [],
   "source": []
  }
 ],
 "metadata": {
  "kernelspec": {
   "display_name": "Python 3 (ipykernel)",
   "language": "python",
   "name": "python3"
  },
  "language_info": {
   "codemirror_mode": {
    "name": "ipython",
    "version": 3
   },
   "file_extension": ".py",
   "mimetype": "text/x-python",
   "name": "python",
   "nbconvert_exporter": "python",
   "pygments_lexer": "ipython3",
   "version": "3.12.4"
  }
 },
 "nbformat": 4,
 "nbformat_minor": 5
}
